{
 "cells": [
  {
   "cell_type": "markdown",
   "metadata": {},
   "source": [
    "# A blank parametrized notebook template with BQ query"
   ]
  },
  {
   "cell_type": "code",
   "execution_count": null,
   "metadata": {
    "pycharm": {
     "is_executing": false
    }
   },
   "outputs": [],
   "source": [
    "import os\n",
    "import time\n",
    "\n",
    "from google.cloud import bigquery\n",
    "from datetime import datetime\n",
    "from pathlib import Path\n",
    "\n",
    "%matplotlib inline\n",
    "%load_ext google.cloud.bigquery"
   ]
  },
  {
   "cell_type": "code",
   "execution_count": null,
   "metadata": {
    "pycharm": {
     "is_executing": false
    },
    "tags": [
     "parameters"
    ]
   },
   "outputs": [],
   "source": [
    "# GCP project to use for running BQ queries\n",
    "DATA_PROJECT_ID = ''\n",
    "\n",
    "# (Code)name of the project\n",
    "PROJECT_NAME = None\n",
    "PROJECT_ID = None\n",
    "\n",
    "# Sample, execution-related parameters\n",
    "PARAMETER_01 = None\n",
    "PARAMETER_02 = None"
   ]
  },
  {
   "cell_type": "code",
   "execution_count": null,
   "metadata": {
    "pycharm": {
     "is_executing": false
    }
   },
   "outputs": [],
   "source": [
    "print(\"Run at: {} (UTC)\".format(datetime.utcnow()))\n",
    "timestamp = datetime.utcnow().strftime(\"%Y%m%d_%H%M\")\n",
    "startc = time.time()\n"
   ]
  },
  {
   "cell_type": "code",
   "execution_count": null,
   "metadata": {
    "pycharm": {
     "is_executing": false
    }
   },
   "outputs": [],
   "source": [
    "# Parameters' values:\n",
    "print('PROJECT_NAME: {}'.format(PROJECT_NAME))\n",
    "print('PROJECT_ID: {}'.format(PROJECT_ID))\n",
    "\n",
    "print('PARAMETER_01: {}'.format(PARAMETER_01))\n",
    "print('PARAMETER_02: {}'.format(PARAMETER_02))"
   ]
  },
  {
   "cell_type": "code",
   "execution_count": null,
   "metadata": {},
   "outputs": [],
   "source": [
    "query = \"\"\"SELECT\n",
    "  year,\n",
    "  month,\n",
    "  AVG(mean_temp) as mean_temp,\n",
    "  SUM(total_precipitation) as total_precipitation\n",
    "FROM\n",
    "  `bigquery-public-data.samples.gsod`\n",
    "WHERE\n",
    "  station_number=726810\n",
    "group by year, month\n",
    "order by year, month\n",
    "LIMIT\n",
    "  1000\n",
    "\"\"\""
   ]
  },
  {
   "cell_type": "code",
   "execution_count": null,
   "metadata": {},
   "outputs": [],
   "source": [
    "client = bigquery.Client(project=DATA_PROJECT_ID)\n",
    "job = client.query(query)\n",
    "bq_results = job.result()\n",
    "df = bq_results.to_dataframe()"
   ]
  },
  {
   "cell_type": "code",
   "execution_count": null,
   "metadata": {},
   "outputs": [],
   "source": [
    "display(df)"
   ]
  },
  {
   "cell_type": "code",
   "execution_count": null,
   "metadata": {
    "pycharm": {
     "is_executing": false
    }
   },
   "outputs": [],
   "source": [
    "endc = time.time()\n",
    "print(\"Completed at: {}\".format(datetime.utcnow()))\n",
    "print(\"Execution took {:.2f} seconds\".format(endc-startc))"
   ]
  }
 ],
 "metadata": {
  "celltoolbar": "Tags",
  "kernelspec": {
   "display_name": "Python 3.6.9 (fireman)",
   "language": "python",
   "name": "datascience-fireman"
  },
  "language_info": {
   "codemirror_mode": {
    "name": "ipython",
    "version": 3
   },
   "file_extension": ".py",
   "mimetype": "text/x-python",
   "name": "python",
   "nbconvert_exporter": "python",
   "pygments_lexer": "ipython3",
   "version": "3.6.9"
  },
  "pycharm": {
   "stem_cell": {
    "cell_type": "raw",
    "metadata": {
     "collapsed": false
    },
    "source": []
   }
  }
 },
 "nbformat": 4,
 "nbformat_minor": 4
}
