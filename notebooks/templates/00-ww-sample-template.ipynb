{
 "cells": [
  {
   "cell_type": "markdown",
   "metadata": {},
   "source": [
    "# A blank parametrized notebook template"
   ]
  },
  {
   "cell_type": "code",
   "execution_count": 1,
   "metadata": {
    "pycharm": {
     "is_executing": false
    }
   },
   "outputs": [],
   "source": [
    "import os\n",
    "import time\n",
    "\n",
    "from datetime import datetime\n",
    "from pathlib import Path\n",
    "\n",
    "%matplotlib inline"
   ]
  },
  {
   "cell_type": "code",
   "execution_count": 2,
   "metadata": {
    "tags": [
     "parameters"
    ],
    "pycharm": {
     "is_executing": false
    }
   },
   "outputs": [],
   "source": [
    "# (Code)name of the project\n",
    "PROJECT_NAME = None\n",
    "PROJECT_ID = None\n",
    "\n",
    "# Sample, execution-related parameters\n",
    "PARAMETER_01 = None\n",
    "PARAMETER_02 = None"
   ]
  },
  {
   "cell_type": "code",
   "execution_count": 3,
   "metadata": {
    "pycharm": {
     "is_executing": false
    }
   },
   "outputs": [
    {
     "name": "stdout",
     "text": [
      "Run at: 2020-10-22 12:51:31.767084 (UTC)\n"
     ],
     "output_type": "stream"
    }
   ],
   "source": [
    "print(\"Run at: {} (UTC)\".format(datetime.utcnow()))\n",
    "timestamp = datetime.utcnow().strftime(\"%Y%m%d_%H%M\")\n",
    "startc = time.time()\n"
   ]
  },
  {
   "cell_type": "code",
   "execution_count": 4,
   "metadata": {
    "pycharm": {
     "is_executing": false
    }
   },
   "outputs": [
    {
     "name": "stdout",
     "text": [
      "PROJECT_NAME: None\n",
      "PROJECT_ID: None\n",
      "PARAMETER_01: None\n",
      "PARAMETER_02: None\n"
     ],
     "output_type": "stream"
    }
   ],
   "source": [
    "# Parameters' values:\n",
    "print('PROJECT_NAME: {}'.format(PROJECT_NAME))\n",
    "print('PROJECT_ID: {}'.format(PROJECT_ID))\n",
    "\n",
    "print('PARAMETER_01: {}'.format(PARAMETER_01))\n",
    "print('PARAMETER_02: {}'.format(PARAMETER_02))"
   ]
  },
  {
   "cell_type": "code",
   "execution_count": 5,
   "metadata": {
    "pycharm": {
     "is_executing": false
    }
   },
   "outputs": [
    {
     "name": "stdout",
     "text": [
      "Completed at: 2020-10-22 12:51:31.779172\n",
      "Execution took 0.01 seconds\n"
     ],
     "output_type": "stream"
    }
   ],
   "source": [
    "endc = time.time()\n",
    "print(\"Completed at: {}\".format(datetime.utcnow()))\n",
    "print(\"Execution took {:.2f} seconds\".format(endc-startc))"
   ]
  }
 ],
 "metadata": {
  "celltoolbar": "Tags",
  "kernelspec": {
   "display_name": "Python 3.6.9 (fireman)",
   "language": "python",
   "name": "datascience-fireman"
  },
  "language_info": {
   "codemirror_mode": {
    "name": "ipython",
    "version": 3
   },
   "file_extension": ".py",
   "mimetype": "text/x-python",
   "name": "python",
   "nbconvert_exporter": "python",
   "pygments_lexer": "ipython3",
   "version": "3.6.9"
  },
  "pycharm": {
   "stem_cell": {
    "cell_type": "raw",
    "source": [],
    "metadata": {
     "collapsed": false
    }
   }
  }
 },
 "nbformat": 4,
 "nbformat_minor": 4
}